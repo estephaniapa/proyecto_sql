{
 "cells": [
  {
   "attachments": {},
   "cell_type": "markdown",
   "metadata": {},
   "source": [
    "<summary>\n",
    "    <font size=\"8\" color=\"palevioletred\">Detrás de los Números de IMDb: Exploración SQL y Modelado ER del Top 50 de Películas</font>\n",
    "</summary>\n",
    "\n",
    "<summary>\n",
    "    <font size=\"3\" > Proyecto final de bases de datos </font>\n",
    "</summary>"
   ]
  },
  {
   "attachments": {},
   "cell_type": "markdown",
   "metadata": {},
   "source": [
    "---\n",
    "<div style=\"text-align: center;\">\n",
    "    <img src=\"https://github.com/estephaniapa/PropedeuticoRedes/blob/main/A%CC%81lgebra%20lineal%20y%20optimizacio%CC%81n/mcd.png?raw=true\" alt=\"Image\" style=\"float: right; width: 150px;\">\n",
    "</div>\n",
    "\n",
    "<summary>\n",
    "    <font size=\"5\" color=\"yellowgreen\"> Maestría en Ciencias de Datos </font>\n",
    "</summary>\n",
    "<summary>\n",
    "    <font size=\"5\" color=\"yellowgreen\"> Universidad de Sonora </font>\n",
    "</summary>\n",
    "<br>\n",
    "<summary>\n",
    "    <font size=\"4\"> Propedeutico: Base de datos</font> \n",
    "</summary>\n",
    "<summary>\n",
    "    <font size=\"4\"> Profesor: Dr. Juan Pablo Soto Barrera</font>\n",
    "</summary>\n",
    "<br>\n",
    "<summary>\n",
    "    <font size=\"4\"> Alumna: Estephania Pivac Alcaraz</font>\n",
    "</summary>\n",
    "\n",
    "\n",
    "---"
   ]
  },
  {
   "attachments": {},
   "cell_type": "markdown",
   "metadata": {},
   "source": [
    "## 1. Introducción"
   ]
  },
  {
   "attachments": {},
   "cell_type": "markdown",
   "metadata": {},
   "source": [
    "El mundo del cine es una fuente inagotable de historias, emociones y logros artísticos. A medida que el número de películas producidas aumenta, se vuelve cada vez más importante contar con herramientas y técnicas que nos permitan explorar y comprender la vasta cantidad de datos asociados a este fascinante universo cinematográfico.\n",
    "\n",
    "En este proyecto, nos proponemos sumergirnos en la base de datos del Top 50 de películas según IMDb, una reconocida plataforma que clasifica y califica las películas más populares y aclamadas por críticos y audiencias de todo el mundo. Utilizando el lenguaje SQL (Structured Query Language), nos adentraremos en esta base de datos con el objetivo de descubrir información relevante y reveladora sobre estas películas.\n",
    "\n",
    "Nuestro enfoque se centra en la creación y ejecución de diversos queries SQL para extraer datos específicos, realizar análisis detallados y responder a preguntas clave sobre el Top 50 de películas. A través de estas consultas, exploraremos aspectos como la puntuación promedio, el género predominante, los actores y directores más destacados, las películas más antiguas y las más recientes, entre otros elementos.\n",
    "\n",
    "Además, para representar y visualizar de manera efectiva la estructura de la base de datos y las relaciones entre las entidades, emplearemos el modelado ER (Entity-Relationship) para diseñar un esquema que refleje de manera precisa la interconexión entre las tablas y los atributos.\n",
    "\n",
    "Mediante este proyecto, esperamos obtener una comprensión más profunda de las películas que conforman el Top 50 de IMDb, descubrir patrones interesantes y extraer información relevante que nos permita apreciar y valorar aún más la riqueza del séptimo arte. A su vez, pretendemos demostrar cómo las consultas SQL y el modelado ER pueden ser herramientas poderosas para la exploración de bases de datos y el análisis de conjuntos de datos complejos como este."
   ]
  },
  {
   "attachments": {},
   "cell_type": "markdown",
   "metadata": {},
   "source": [
    "## 2. Modelo entidad relacion\n",
    "\n",
    "<center><img src=https://github.com/estephaniapa/proyecto_sql/blob/main/Screenshot%202023-06-11%20at%2023.46.11.png?raw=true width=600> </center>\n"
   ]
  },
  {
   "attachments": {},
   "cell_type": "markdown",
   "metadata": {},
   "source": [
    "<t align=\"justify\">\n",
    "\n",
    "En la imagen de arriba se muestra el modelo entidad-relación de la base de datos. Podemos identificar una tabla principal llamada \"movie\" que contiene información sobre las 50 mejores películas. Esta tabla se conecta con cinco catálogos diferentes: director principal, productor general, género, escritor y elenco principal.\n",
    "\n",
    "Observamos que un director puede dirigir múltiples películas, pero cada película tiene un único director principal. Del mismo modo, un productor puede producir muchas películas, pero cada película tiene un único productor principal.\n",
    "\n",
    "Un escritor puede escribir muchas películas, pero cada película tiene un único escritor principal.\n",
    "\n",
    "En cuanto a los géneros, una película puede abarcar varios géneros y, a su vez, un género puede abarcar muchas películas.\n",
    "\n",
    "Cada grupo de elenco corresponde a una única película, mientras que a cada película le corresponde un único grupo de elenco distinto.\n"
   ]
  },
  {
   "attachments": {},
   "cell_type": "markdown",
   "metadata": {},
   "source": [
    "## 3. Visualización de datos"
   ]
  },
  {
   "attachments": {},
   "cell_type": "markdown",
   "metadata": {},
   "source": [
    "### 3.1 Visualizamos la tabla principal\n",
    "```SQL\n",
    "SELECT * FROM movies_imbd.movies;\n",
    "```\n",
    "<center><img src=https://github.com/estephaniapa/proyecto_sql/blob/main/query1.png?raw=true width=1100> </center>\n",
    "\n",
    "<t align=\"justify\">\n",
    "La consulta SQL \"SELECT * FROM movies_imdb.movies;\" se utiliza para seleccionar y recuperar todos los registros y columnas de la tabla \"movies\" dentro del esquema \"movies_imdb\"."
   ]
  },
  {
   "attachments": {},
   "cell_type": "markdown",
   "metadata": {},
   "source": [
    "### 3.2 Seleccionamos ciertas columnas del top 10 de peliculas y creamos una view\n",
    "\n",
    "```SQL\n",
    "USE movies_imbd;\n",
    "\n",
    "CREATE OR REPLACE VIEW top_10 AS\n",
    "SELECT name_movie, Year, Director_id, Writers_id, producers_id, Top_rated\n",
    "FROM movies_imbd.movies\n",
    "ORDER BY Top_rated ASC\n",
    "LIMIT 10;\n",
    "\n",
    "SELECT * FROM top_10;\n",
    "```\n",
    "\n",
    "<center><img src=https://github.com/estephaniapa/proyecto_sql/blob/main/query2.png?raw=true width=1100> </center>\n",
    "\n",
    "<t align=\"justify\">\n",
    "\n",
    "Mediante la consulta anterior creamos una vista de la tabla filtrada que contiene el top_10 de peliculas de acuerdo a su rating. Esta vista permite hacer referencia a este top en otras queries."
   ]
  },
  {
   "attachments": {},
   "cell_type": "markdown",
   "metadata": {},
   "source": [
    "### 3.3 ¿Qué directores se encargaron de las peliculas más populares?\n",
    "\n",
    "```SQL\n",
    "USE movies_imbd;\n",
    "SELECT *\n",
    "FROM top_10\n",
    "INNER JOIN directors ON top_10.Director_id = directors.id\n",
    "LIMIT 10;\n",
    "```\n",
    "\n",
    "<center><img src=https://github.com/estephaniapa/proyecto_sql/blob/main/query3.png?raw=true width=1100> </center>\n",
    "\n",
    "<t align=\"justify\">\n",
    "Agregamos el nombre de los directores del top 10 de peliculas mediante INNER JOIN. Esto nos permite ver, por ejemplo, que Frank Dabaront produjo la pelicula más famosa llamada \"The Shawshank Redemption\", seguido por Coppola con su gran producción The Godfather."
   ]
  },
  {
   "attachments": {},
   "cell_type": "markdown",
   "metadata": {},
   "source": [
    "### 3.4 ¿Cuáles directores tienen más de una pelicula en el top 50?\n",
    "\n",
    "```SQL\n",
    "SELECT directors.Director, movies.Director_id, COUNT(*) AS directores_top  \n",
    "FROM movies \n",
    "INNER JOIN directors ON movies.Director_id = directors.id \n",
    "GROUP BY directors.Director, movies.Director_id \n",
    "HAVING directores_top > 1 \n",
    "ORDER BY directores_top DESC \n",
    "LIMIT 50;\n",
    "```\n",
    "\n",
    "<center><img src=https://github.com/estephaniapa/proyecto_sql/blob/main/Screenshot%202023-06-11%20at%2022.58.30.png?raw=true width=1100> </center>\n",
    "\n",
    "<t align=\"justify\">"
   ]
  },
  {
   "attachments": {},
   "cell_type": "markdown",
   "metadata": {},
   "source": [
    "Tras analizar los datos del Top 50 de películas, se puede llegar a la conclusión de que Christopher Nolan ha dejado una huella significativa en esta lista, ya que ha producido la mayor cantidad de películas en el ranking. Destacando su talento y visión cinematográfica, Nolan lidera el Top 50 con la producción de 4 películas distintas que han capturado la atención y el reconocimiento tanto de críticos como de audiencias. Su contribución al cine ha sido destacada y sus películas han dejado una marca perdurable en la industria."
   ]
  },
  {
   "attachments": {},
   "cell_type": "markdown",
   "metadata": {},
   "source": [
    "### 3.5 ¿Cuál es el género de peliculas más popular?\n",
    "\n",
    "```SQL\n",
    "SELECT genre, COUNT(*) AS genre_top \n",
    "FROM movies_genres\n",
    "INNER JOIN movies ON movies_genres.movie_id = movies.id\n",
    "INNER JOIN genres ON movies_genres.genre_id = genres.id\n",
    "GROUP BY genre\n",
    "ORDER BY genre_top DESC \n",
    "LIMIT 50;\n",
    "```\n",
    "<center><img src=https://github.com/estephaniapa/proyecto_sql/blob/main/query4.png?raw=true width=1100> </center>\n",
    "\n",
    "<t align=\"justify\">"
   ]
  },
  {
   "attachments": {},
   "cell_type": "markdown",
   "metadata": {},
   "source": [
    "Tras realizar el análisis con esta consulta, se puede concluir de manera contundente que el género preferido en el Top 50 de películas es el drama, con la impresionante cantidad de 39 películas presentes en la lista. El drama, conocido por su capacidad de emocionar y explorar los aspectos más profundos de la condición humana, ha logrado cautivar al público y obtener un reconocimiento significativo en el ámbito cinematográfico. Esta preponderancia del género en el Top 50 demuestra su poder para contar historias impactantes y resonantes, lo cual subraya su relevancia y la conexión que establece con las audiencias en todo el mundo."
   ]
  },
  {
   "attachments": {},
   "cell_type": "markdown",
   "metadata": {},
   "source": [
    "### 3.6 ¿Cuántos productores distintos figuran en el top 50?\n",
    "\n",
    "```SQL\n",
    "SELECT COUNT(DISTINCT producers) AS distinct_producers\n",
    "FROM producers;\n",
    "```\n",
    "<center><img src=https://github.com/estephaniapa/proyecto_sql/blob/main/query5.png?raw=true width=1100> </center>\n",
    "\n",
    "<t align=\"justify\">"
   ]
  },
  {
   "attachments": {},
   "cell_type": "markdown",
   "metadata": {},
   "source": [
    "Existen 47 productores distintos en el top 50."
   ]
  },
  {
   "attachments": {},
   "cell_type": "markdown",
   "metadata": {},
   "source": [
    "### 3.7 ¿Cómo podemos agregar, actualizar o eliminar registros?\n",
    "\n",
    "```SQL\n",
    "INSERT INTO movies (id, Top_rated, name_movie, Year, Director_id, Writers_id, TopCast_id, producers_id)\n",
    "VALUES (105, 105, 'Pride and Prejudice', 2005, 4, 6, 5, 8);\n",
    "\n",
    "SELECT *\n",
    "FROM movies\n",
    "WHERE id = 105;\n",
    "\n",
    "UPDATE movies\n",
    "SET Director_id = 2\n",
    "WHERE id = 105;\n",
    "\n",
    "DELETE\n",
    "FROM movies\n",
    "WHERE id = 105;\n",
    "```\n",
    "<center><img src=https://github.com/estephaniapa/proyecto_sql/blob/main/query6.png?raw=true width=1100> </center>\n",
    "\n",
    "<t align=\"justify\">"
   ]
  },
  {
   "attachments": {},
   "cell_type": "markdown",
   "metadata": {},
   "source": [
    "### 3.8 ¿En qué año se estrenaron más peliculas famosas?\n",
    "\n",
    "```SQL\n",
    "SELECT Year, COUNT(*) AS year_top \n",
    "FROM movies\n",
    "GROUP BY Year\n",
    "ORDER BY year_top  DESC \n",
    "LIMIT 50;\n",
    "```\n",
    "<center><img src=https://github.com/estephaniapa/proyecto_sql/blob/main/query7.png?raw=true width=1100> </center>\n",
    "\n",
    "<t align=\"justify\">"
   ]
  },
  {
   "attachments": {},
   "cell_type": "markdown",
   "metadata": {},
   "source": [
    "A partir del análisis de los datos, se puede concluir que el año 1994 destaca notablemente en la historia del cine, ya que fue el año en el que se estrenaron la mayor cantidad de películas famosas dentro del Top 50. Con un impresionante total de 5 películas en la lista, 1994 se posiciona como un año memorable en términos de calidad y reconocimiento cinematográfico. Estas películas han dejado una marca duradera en la industria y han capturado la atención y admiración de críticos y audiencias a lo largo de los años. El año 1994 se ha convertido en un hito destacado en la evolución del cine, al albergar una notable concentración de películas de renombre en el Top 50."
   ]
  },
  {
   "attachments": {},
   "cell_type": "markdown",
   "metadata": {},
   "source": [
    "## Conclusiones\n",
    "En conclusión, este proyecto de exploración de la base de datos del Top 50 de películas de IMDb a través de diversas consultas SQL ha proporcionado una visión profunda y reveladora del mundo cinematográfico. Mediante el análisis de los datos, hemos obtenido importantes conclusiones.\n",
    "\n",
    "En primer lugar, se destaca la destacada presencia de Christopher Nolan en el Top 50, con su participación en la producción de 4 películas distintas, lo cual evidencia su talento y contribución significativa a la industria cinematográfica.\n",
    "\n",
    "Además, se ha confirmado que el género más predominante en el Top 50 de películas es el drama, con un total de 39 películas, lo cual demuestra su capacidad para cautivar y conmover a las audiencias con historias profundas y emocionalmente impactantes.\n",
    "\n",
    "Por último, se ha identificado que el año 1994 fue un hito destacado en la historia del cine, ya que se estrenaron 5 películas famosas que lograron asegurar un lugar en el Top 50, consolidando así su legado y su influencia duradera en la industria.\n",
    "\n",
    "En general, este proyecto ha demostrado cómo el análisis de datos a través de consultas SQL puede revelar patrones, tendencias y detalles interesantes sobre el mundo cinematográfico. Estas conclusiones nos permiten apreciar aún más la diversidad, la creatividad y la influencia del cine en nuestras vidas."
   ]
  },
  {
   "attachments": {},
   "cell_type": "markdown",
   "metadata": {},
   "source": [
    "## Bibliografía\n",
    "\n",
    "- Julian Orozco. (2021). Top 50 Movies by IMDb. Recuperado de Kaggle: https://www.kaggle.com/datasets/julianorozco/top-50-movies-by-imdb?select=movies_producers.csv"
   ]
  }
 ],
 "metadata": {
  "kernelspec": {
   "display_name": "Python 3 (ipykernel)",
   "language": "python",
   "name": "python3"
  },
  "language_info": {
   "codemirror_mode": {
    "name": "ipython",
    "version": 3
   },
   "file_extension": ".py",
   "mimetype": "text/x-python",
   "name": "python",
   "nbconvert_exporter": "python",
   "pygments_lexer": "ipython3",
   "version": "3.10.8"
  }
 },
 "nbformat": 4,
 "nbformat_minor": 4
}
